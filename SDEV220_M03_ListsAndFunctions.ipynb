{
 "cells": [
  {
   "cell_type": "code",
   "execution_count": 1,
   "id": "92fb49c1-a9d3-4668-a8e7-08c519f8f800",
   "metadata": {},
   "outputs": [
    {
     "name": "stdout",
     "output_type": "stream",
     "text": [
      "['mozzarella', 'Cinderella', 'salmonella']\n",
      "['MOZZARELLA', 'Cinderella', 'salmonella']\n",
      "['MOZZARELLA', 'Cinderella'] Congrats on your Nobel Prize!\n"
     ]
    }
   ],
   "source": [
    "## 7.4\n",
    "things = [\"mozzarella\", \"cinderella\", \"salmonella\"]\n",
    "\n",
    "## 7.5 - The item in the list did change from the first letter being lower case to upper case\n",
    "things[1] = things[1].capitalize()\n",
    "print(things)\n",
    "\n",
    "## 7.6 \n",
    "things[0] = things[0].upper()\n",
    "print(things)\n",
    "\n",
    "## 7.7\n",
    "del things[2]\n",
    "print(things, \"Congrats on your Nobel Prize!\")"
   ]
  },
  {
   "cell_type": "code",
   "execution_count": 12,
   "id": "4e506cae-db06-401e-838b-b45ee50a0560",
   "metadata": {},
   "outputs": [
    {
     "name": "stdout",
     "output_type": "stream",
     "text": [
      "['Harry', 'Ron', 'Hermione']\n",
      "5\n"
     ]
    }
   ],
   "source": [
    "## 9.1\n",
    "def good():\n",
    "    myList = ['Harry', 'Ron', 'Hermione']\n",
    "    print(myList)\n",
    "    \n",
    "good()\n",
    "\n",
    "## 9.2\n",
    "def get_odds():\n",
    "    odd_num = [num for num in range(10) if num % 2 != 0]\n",
    "    print(odd_num[2])\n",
    "\n",
    "get_odds()\n"
   ]
  },
  {
   "cell_type": "code",
   "execution_count": null,
   "id": "bfda5051-ed49-47ca-a558-0464009286ff",
   "metadata": {},
   "outputs": [],
   "source": []
  }
 ],
 "metadata": {
  "kernelspec": {
   "display_name": "Python 3 (ipykernel)",
   "language": "python",
   "name": "python3"
  },
  "language_info": {
   "codemirror_mode": {
    "name": "ipython",
    "version": 3
   },
   "file_extension": ".py",
   "mimetype": "text/x-python",
   "name": "python",
   "nbconvert_exporter": "python",
   "pygments_lexer": "ipython3",
   "version": "3.12.4"
  }
 },
 "nbformat": 4,
 "nbformat_minor": 5
}
